{
  "nbformat": 4,
  "nbformat_minor": 0,
  "metadata": {
    "colab": {
      "name": "Midterm Exam,ipynb",
      "provenance": [],
      "authorship_tag": "ABX9TyMslEDBqMskBkIV93a6h3tZ",
      "include_colab_link": true
    },
    "kernelspec": {
      "name": "python3",
      "display_name": "Python 3"
    },
    "language_info": {
      "name": "python"
    }
  },
  "cells": [
    {
      "cell_type": "markdown",
      "metadata": {
        "id": "view-in-github",
        "colab_type": "text"
      },
      "source": [
        "<a href=\"https://colab.research.google.com/github/timothyolano/Linear-Algebra-58019/blob/main/Midterm_Exam%2Cipynb.ipynb\" target=\"_parent\"><img src=\"https://colab.research.google.com/assets/colab-badge.svg\" alt=\"Open In Colab\"/></a>"
      ]
    },
    {
      "cell_type": "markdown",
      "metadata": {
        "id": "V2vKECxP4iFJ"
      },
      "source": [
        "#1.\n"
      ]
    },
    {
      "cell_type": "code",
      "metadata": {
        "colab": {
          "base_uri": "https://localhost:8080/"
        },
        "id": "7f_4ahcf4mfl",
        "outputId": "3810baca-59e9-4ee3-b5a3-3222ebab5324"
      },
      "source": [
        "import numpy as np\n",
        "\n",
        "c = np.array([[1, 2, 3, 4, 5], [6, 7, 8, 9, 10], [11, 12, 13, 14, 15], [16, 17, 18, 19, 20], [21, 22, 23, 24, 25]])\n",
        "print(c)"
      ],
      "execution_count": 1,
      "outputs": [
        {
          "output_type": "stream",
          "name": "stdout",
          "text": [
            "[[ 1  2  3  4  5]\n",
            " [ 6  7  8  9 10]\n",
            " [11 12 13 14 15]\n",
            " [16 17 18 19 20]\n",
            " [21 22 23 24 25]]\n"
          ]
        }
      ]
    },
    {
      "cell_type": "markdown",
      "metadata": {
        "id": "TwgWvy6w5sZc"
      },
      "source": [
        "#2\n"
      ]
    },
    {
      "cell_type": "code",
      "metadata": {
        "colab": {
          "base_uri": "https://localhost:8080/"
        },
        "id": "m80VVqIn5soY",
        "outputId": "3d12fbbe-0003-495d-9e0a-27fc3ad5d1c9"
      },
      "source": [
        "import numpy as np\n",
        "\n",
        "a = np.array([[1, 2, 3, 4], [5, 6 , 7, 8], [9, 10, 11, 12], [13, 14 , 15, 16]])\n",
        "print()\n",
        "print(a)\n",
        "b = np.triu(a)\n",
        "print()\n",
        "print(b)"
      ],
      "execution_count": 26,
      "outputs": [
        {
          "output_type": "stream",
          "name": "stdout",
          "text": [
            "\n",
            "[[ 1  2  3  4]\n",
            " [ 5  6  7  8]\n",
            " [ 9 10 11 12]\n",
            " [13 14 15 16]]\n",
            "\n",
            "[[ 1  2  3  4]\n",
            " [ 0  6  7  8]\n",
            " [ 0  0 11 12]\n",
            " [ 0  0  0 16]]\n"
          ]
        }
      ]
    },
    {
      "cell_type": "markdown",
      "metadata": {
        "id": "D70hXox-5v3u"
      },
      "source": [
        "#3"
      ]
    },
    {
      "cell_type": "code",
      "metadata": {
        "colab": {
          "base_uri": "https://localhost:8080/"
        },
        "id": "8P6uF5IK5xfM",
        "outputId": "ed3655e8-3d2a-4d15-9107-49222b30a8c3"
      },
      "source": [
        "import numpy as np \n",
        "\n",
        "a = np.array([[1, 2, 3], [4, 5, 6], [7, 8, 9]])\n",
        "print(a)\n",
        "\n",
        "b = np.transpose(a)\n",
        "print()\n",
        "print(b)\n",
        "\n",
        "c = np.matmul(a, b)\n",
        "print()\n",
        "print(c)\n",
        "\n",
        "\n"
      ],
      "execution_count": 23,
      "outputs": [
        {
          "output_type": "stream",
          "name": "stdout",
          "text": [
            "[[1 2 3]\n",
            " [4 5 6]\n",
            " [7 8 9]]\n",
            "\n",
            "[[1 4 7]\n",
            " [2 5 8]\n",
            " [3 6 9]]\n",
            "\n",
            "[[ 14  32  50]\n",
            " [ 32  77 122]\n",
            " [ 50 122 194]]\n"
          ]
        }
      ]
    },
    {
      "cell_type": "markdown",
      "metadata": {
        "id": "CLsn__nC5xyq"
      },
      "source": [
        "#4"
      ]
    },
    {
      "cell_type": "code",
      "metadata": {
        "colab": {
          "base_uri": "https://localhost:8080/"
        },
        "id": "LrDnv2gF5y3r",
        "outputId": "87c45a0d-ca21-4f1b-a873-4f10866a7701"
      },
      "source": [
        "import numpy as np \n",
        "\n",
        "a = np.array([[1, 2, 3], [2, 3, 3], [3, 4, -2]])\n",
        "print(a)\n",
        "inv_a = np.linalg.inv(a)\n",
        "print(inv_a)"
      ],
      "execution_count": 5,
      "outputs": [
        {
          "output_type": "stream",
          "name": "stdout",
          "text": [
            "[[ 1  2  3]\n",
            " [ 2  3  3]\n",
            " [ 3  4 -2]]\n",
            "[[-3.6  3.2 -0.6]\n",
            " [ 2.6 -2.2  0.6]\n",
            " [-0.2  0.4 -0.2]]\n"
          ]
        }
      ]
    },
    {
      "cell_type": "markdown",
      "metadata": {
        "id": "ymNtepi051oi"
      },
      "source": [
        "#5"
      ]
    },
    {
      "cell_type": "code",
      "metadata": {
        "colab": {
          "base_uri": "https://localhost:8080/"
        },
        "id": "x5AsUp5852yZ",
        "outputId": "d7f08aef-dc25-4ca3-ee6b-16859799ad89"
      },
      "source": [
        "import numpy as np \n",
        "\n",
        "a = np.array([[1, 2, 3], [2, 3, 3], [3, 4, -2]])\n",
        "print(a)\n",
        "\n",
        "det = round(np.linalg.det(a))\n",
        "print()\n",
        "print\n",
        "print(det)"
      ],
      "execution_count": 10,
      "outputs": [
        {
          "output_type": "stream",
          "name": "stdout",
          "text": [
            "[[ 1  2  3]\n",
            " [ 2  3  3]\n",
            " [ 3  4 -2]]\n",
            "\n",
            "5\n"
          ]
        }
      ]
    },
    {
      "cell_type": "markdown",
      "metadata": {
        "id": "j3pBCgVG56GW"
      },
      "source": [
        "#6\n"
      ]
    },
    {
      "cell_type": "code",
      "metadata": {
        "colab": {
          "base_uri": "https://localhost:8080/"
        },
        "id": "yt8NrgaK59IP",
        "outputId": "6e9c000f-2f91-4825-d74f-95b8da268328"
      },
      "source": [
        "import numpy as np\n",
        "\n",
        "c = np.array([[5, 4, 1], [10, 9, 4], [10, 13, 15]])\n",
        "inv_c = np.linalg.inv(c)\n",
        "print(c)\n",
        "print()\n",
        "print(inv_c)\n",
        "\n",
        "d = np.array([[3.4], [8.8], [19.2]])\n",
        "\n",
        "x = np.dot(inv_c, d)\n",
        "print(\"roots =\")\n",
        "print(x)\n",
        "\n",
        "z = np.dot(c, x) #checking\n",
        "print(\"checking =\" )\n",
        "print(z)"
      ],
      "execution_count": 14,
      "outputs": [
        {
          "output_type": "stream",
          "name": "stdout",
          "text": [
            "[[ 5  4  1]\n",
            " [10  9  4]\n",
            " [10 13 15]]\n",
            "\n",
            "[[ 5.53333333 -3.13333333  0.46666667]\n",
            " [-7.33333333  4.33333333 -0.66666667]\n",
            " [ 2.66666667 -1.66666667  0.33333333]]\n",
            "roots =\n",
            "[[0.2]\n",
            " [0.4]\n",
            " [0.8]]\n",
            "checking =\n",
            "[[ 3.4]\n",
            " [ 8.8]\n",
            " [19.2]]\n"
          ]
        }
      ]
    }
  ]
}