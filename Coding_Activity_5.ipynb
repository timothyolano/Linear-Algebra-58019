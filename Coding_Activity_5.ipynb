{
  "nbformat": 4,
  "nbformat_minor": 0,
  "metadata": {
    "colab": {
      "name": "Coding Activity 5.ipynb",
      "provenance": [],
      "authorship_tag": "ABX9TyO0EciqAW/K1fEZ4Zgxty/b",
      "include_colab_link": true
    },
    "kernelspec": {
      "name": "python3",
      "display_name": "Python 3"
    },
    "language_info": {
      "name": "python"
    }
  },
  "cells": [
    {
      "cell_type": "markdown",
      "metadata": {
        "id": "view-in-github",
        "colab_type": "text"
      },
      "source": [
        "<a href=\"https://colab.research.google.com/github/timothyolano/Linear-Algebra-58019/blob/main/Coding_Activity_5.ipynb\" target=\"_parent\"><img src=\"https://colab.research.google.com/assets/colab-badge.svg\" alt=\"Open In Colab\"/></a>"
      ]
    },
    {
      "cell_type": "code",
      "execution_count": 2,
      "metadata": {
        "id": "dxR5nqH9chmX"
      },
      "outputs": [],
      "source": [
        "import numpy as np \n",
        "from numpy.linalg import eig\n"
      ]
    },
    {
      "cell_type": "code",
      "source": [
        "A = np.array([[-12, 3],[4, 1]]) \n",
        "print(f'Matrix A:\\n {A}') \n",
        "\n",
        "inv_A = np.linalg.inv(A) \n",
        "print(f'\\nInverse of Matrix A:\\n{inv_A}')\n",
        "\n",
        "B = np.array([[0],[0]]) \n",
        "print(f'\\nMatrix B:\\n {B}') \n",
        "\n",
        "X = np.dot(inv_A, B)\n",
        "print(f'\\nDot product:\\n{X}') "
      ],
      "metadata": {
        "colab": {
          "base_uri": "https://localhost:8080/"
        },
        "id": "O2Xa2OD9dkjc",
        "outputId": "22e12732-0cbd-4ce0-87d9-5e4d76c744c4"
      },
      "execution_count": 15,
      "outputs": [
        {
          "output_type": "stream",
          "name": "stdout",
          "text": [
            "Matrix A:\n",
            " [[-12   3]\n",
            " [  4   1]]\n",
            "\n",
            "Inverse of Matrix A:\n",
            "[[-0.04166667  0.125     ]\n",
            " [ 0.16666667  0.5       ]]\n",
            "\n",
            "Matrix B:\n",
            " [[0]\n",
            " [0]]\n",
            "\n",
            "Dot product:\n",
            "[[0.]\n",
            " [0.]]\n"
          ]
        }
      ]
    },
    {
      "cell_type": "code",
      "source": [
        "A = np.array([[-6,3],[4,5]])\n",
        "print(f'Matrix A:\\n{A}')\n",
        "\n",
        "w,v = np.linalg.eig(A)\n",
        "print(f'the eigenvalue/s is/are:\\n {w}')\n",
        "print(f'the right eigenvectors are:\\n {v}')\n"
      ],
      "metadata": {
        "colab": {
          "base_uri": "https://localhost:8080/"
        },
        "id": "5pZWISyqfzY5",
        "outputId": "638c1a67-825e-4ee1-fc3a-a01816a7566d"
      },
      "execution_count": 16,
      "outputs": [
        {
          "output_type": "stream",
          "name": "stdout",
          "text": [
            "Matrix A:\n",
            "[[-6  3]\n",
            " [ 4  5]]\n",
            "the eigenvalue/s is/are:\n",
            " [-7.  6.]\n",
            "the right eigenvectors are:\n",
            " [[-0.9486833  -0.24253563]\n",
            " [ 0.31622777 -0.9701425 ]]\n"
          ]
        }
      ]
    },
    {
      "cell_type": "code",
      "source": [
        "A = np.array([[2,2,4],[1,3,5],[2,3,4]])\n",
        "print(A)\n",
        "s,t = np.linalg.eig(A) \n",
        "print(f'\\nthe Eigenvalue/s is/are: {s.round()}')\n",
        "print(f'\\nthe right Eigenvectors are: \\n{t.round()}\\n')\n",
        "c = np.dot(A,t.round())\n",
        "print(c) "
      ],
      "metadata": {
        "colab": {
          "base_uri": "https://localhost:8080/"
        },
        "id": "uJLTAwMtf8KL",
        "outputId": "c5929fa9-0178-43a0-f1b4-dad338979617"
      },
      "execution_count": 19,
      "outputs": [
        {
          "output_type": "stream",
          "name": "stdout",
          "text": [
            "[[2 2 4]\n",
            " [1 3 5]\n",
            " [2 3 4]]\n",
            "\n",
            "the Eigenvalue/s is/are: [ 9.  1. -1.]\n",
            "\n",
            "the right Eigenvectors are: \n",
            "[[-1. -1. -0.]\n",
            " [-1.  1. -1.]\n",
            " [-1. -0.  1.]]\n",
            "\n",
            "[[-8.  0.  2.]\n",
            " [-9.  2.  2.]\n",
            " [-9.  1.  1.]]\n"
          ]
        }
      ]
    }
  ]
}