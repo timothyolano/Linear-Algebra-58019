{
  "nbformat": 4,
  "nbformat_minor": 0,
  "metadata": {
    "colab": {
      "name": "Coding Exercise 3.ipynb",
      "provenance": [],
      "authorship_tag": "ABX9TyOyaKbIq6T7MPQrXkxyUIzf",
      "include_colab_link": true
    },
    "kernelspec": {
      "name": "python3",
      "display_name": "Python 3"
    },
    "language_info": {
      "name": "python"
    }
  },
  "cells": [
    {
      "cell_type": "markdown",
      "metadata": {
        "id": "view-in-github",
        "colab_type": "text"
      },
      "source": [
        "<a href=\"https://colab.research.google.com/github/timothyolano/Linear-Algebra-58019/blob/main/Coding_Exercise_3.ipynb\" target=\"_parent\"><img src=\"https://colab.research.google.com/assets/colab-badge.svg\" alt=\"Open In Colab\"/></a>"
      ]
    },
    {
      "cell_type": "code",
      "metadata": {
        "colab": {
          "base_uri": "https://localhost:8080/"
        },
        "id": "RFpUwKNmSEFx",
        "outputId": "67c98e4e-8865-44ce-f99e-edf7f94820bd"
      },
      "source": [
        "import numpy as np\n",
        "\n",
        "c = np.array([[4, 10, 8], [10, 26, 26], [8, 26, 61]])\n",
        "inv_c = np.linalg.inv(c)\n",
        "print(c)\n",
        "print()\n",
        "print(inv_c)\n",
        "\n",
        "d = np.array([[44], [128], [214]])\n",
        "\n",
        "x = np.dot(inv_c, d)\n",
        "print()\n",
        "print(x)\n",
        "\n",
        "z = np.dot(c, x) #checking\n",
        "print()\n",
        "print(z)"
      ],
      "execution_count": 7,
      "outputs": [
        {
          "output_type": "stream",
          "name": "stdout",
          "text": [
            "[[ 4 10  8]\n",
            " [10 26 26]\n",
            " [ 8 26 61]]\n",
            "\n",
            "[[ 25.27777778 -11.16666667   1.44444444]\n",
            " [-11.16666667   5.          -0.66666667]\n",
            " [  1.44444444  -0.66666667   0.11111111]]\n",
            "\n",
            "[[-8.]\n",
            " [ 6.]\n",
            " [ 2.]]\n",
            "\n",
            "[[ 44.]\n",
            " [128.]\n",
            " [214.]]\n"
          ]
        }
      ]
    }
  ]
}