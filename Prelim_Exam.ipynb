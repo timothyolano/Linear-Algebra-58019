{
  "nbformat": 4,
  "nbformat_minor": 0,
  "metadata": {
    "colab": {
      "name": "Prelim Exam.ipynb",
      "provenance": [],
      "authorship_tag": "ABX9TyN76j8Jb2DoQ7e/Wd5n9sKl",
      "include_colab_link": true
    },
    "kernelspec": {
      "name": "python3",
      "display_name": "Python 3"
    },
    "language_info": {
      "name": "python"
    }
  },
  "cells": [
    {
      "cell_type": "markdown",
      "metadata": {
        "id": "view-in-github",
        "colab_type": "text"
      },
      "source": [
        "<a href=\"https://colab.research.google.com/github/timothyolano/Linear-Algebra-58019/blob/main/Prelim_Exam.ipynb\" target=\"_parent\"><img src=\"https://colab.research.google.com/assets/colab-badge.svg\" alt=\"Open In Colab\"/></a>"
      ]
    },
    {
      "cell_type": "markdown",
      "metadata": {
        "id": "wZD8Uf5ylbFI"
      },
      "source": [
        "#Question 1. (20 points) Create a 4 x 4 matrix whose diagonal elements are all one (1's). Name it as matrix \"C\". Show your solutions using Python codes and do not forget to label them on the Text Cell."
      ]
    },
    {
      "cell_type": "code",
      "metadata": {
        "colab": {
          "base_uri": "https://localhost:8080/"
        },
        "id": "A__EiYzmkEjq",
        "outputId": "9c09840e-643a-4071-cc76-585323185c6f"
      },
      "source": [
        "import numpy as np\n",
        "c = np.zeros((4, 4)) #this where the 4 x 4 matrix\n",
        "np.fill_diagonal(c, 1) #the fill diagonal method is used to fill a diagonal line with the specific number. it this case the number \"1\" was used.\n",
        "print(c)"
      ],
      "execution_count": null,
      "outputs": [
        {
          "output_type": "stream",
          "name": "stdout",
          "text": [
            "[[1. 0. 0. 0.]\n",
            " [0. 1. 0. 0.]\n",
            " [0. 0. 1. 0.]\n",
            " [0. 0. 0. 1.]]\n"
          ]
        }
      ]
    },
    {
      "cell_type": "markdown",
      "metadata": {
        "id": "tfwRgp6ylgN5"
      },
      "source": [
        "#Question 2. (20 points) In relation to Question 1, show a solution that doubles all the values of each element. Show your solutions using Python codes and do not forget to label them on the Text Cell."
      ]
    },
    {
      "cell_type": "code",
      "metadata": {
        "id": "yyEFqj9gl2qW",
        "colab": {
          "base_uri": "https://localhost:8080/"
        },
        "outputId": "2209fd88-b590-4efc-a782-cd946b06c9f0"
      },
      "source": [
        "import numpy as np\n",
        "c = np.zeros((4, 4)) #this where the 4 x 4 matrix\n",
        "np.fill_diagonal(c, 1) #the fill diagonal method is used to fill a diagonal line with the specific number. it this case the number \"1\" was used.\n",
        "\n",
        "print(\"c= \")\n",
        "print(c)\n",
        "\n",
        "print(\"Doubled: \") \n",
        "print(2*c)\n",
        "\n"
      ],
      "execution_count": 25,
      "outputs": [
        {
          "output_type": "stream",
          "name": "stdout",
          "text": [
            "c= \n",
            "[[1. 0. 0. 0.]\n",
            " [0. 1. 0. 0.]\n",
            " [0. 0. 1. 0.]\n",
            " [0. 0. 0. 1.]]\n",
            "Doubled: \n",
            "[[2. 0. 0. 0.]\n",
            " [0. 2. 0. 0.]\n",
            " [0. 0. 2. 0.]\n",
            " [0. 0. 0. 2.]]\n"
          ]
        }
      ]
    },
    {
      "cell_type": "markdown",
      "metadata": {
        "id": "t1CrRFE9nY81"
      },
      "source": [
        "#Question 3. (10 points) Find the cross-product of matrices, A = [2,7,4] and\n",
        "\n",
        "B = [3,9,8]. Show your solutions using Python codes and do not forget to label them on the Text Cell."
      ]
    },
    {
      "cell_type": "code",
      "metadata": {
        "colab": {
          "base_uri": "https://localhost:8080/"
        },
        "id": "RQr5xrPpncq-",
        "outputId": "ffc3d78e-e025-462f-c224-76ad6e81e3dd"
      },
      "source": [
        "import numpy as np\n",
        "\n",
        "A = [2, 7, 4]\n",
        "B = [3, 9, 8]\n",
        "C = np.cross(A, B) #where the cross product happens. \n",
        "\n",
        "print(\"A= \")\n",
        "print(A)\n",
        "print(\"B= \")\n",
        "print(B)\n",
        "print(\"C= \")\n",
        "print(C)"
      ],
      "execution_count": 27,
      "outputs": [
        {
          "output_type": "stream",
          "name": "stdout",
          "text": [
            "A= \n",
            "[2, 7, 4]\n",
            "B= \n",
            "[3, 9, 8]\n",
            "C= \n",
            "[20 -4 -3]\n"
          ]
        }
      ]
    }
  ]
}