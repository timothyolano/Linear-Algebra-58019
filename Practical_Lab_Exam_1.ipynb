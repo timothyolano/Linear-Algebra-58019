{
  "nbformat": 4,
  "nbformat_minor": 0,
  "metadata": {
    "colab": {
      "name": "Practical Lab Exam 1.ipynb",
      "provenance": [],
      "authorship_tag": "ABX9TyOdf+bWCFGXTCqX9qJJ0Amj",
      "include_colab_link": true
    },
    "kernelspec": {
      "name": "python3",
      "display_name": "Python 3"
    },
    "language_info": {
      "name": "python"
    }
  },
  "cells": [
    {
      "cell_type": "markdown",
      "metadata": {
        "id": "view-in-github",
        "colab_type": "text"
      },
      "source": [
        "<a href=\"https://colab.research.google.com/github/timothyolano/Linear-Algebra-58019/blob/main/Practical_Lab_Exam_1.ipynb\" target=\"_parent\"><img src=\"https://colab.research.google.com/assets/colab-badge.svg\" alt=\"Open In Colab\"/></a>"
      ]
    },
    {
      "cell_type": "code",
      "metadata": {
        "colab": {
          "base_uri": "https://localhost:8080/"
        },
        "id": "YYyR-dhdsswd",
        "outputId": "97faa067-3936-4341-a59f-b399153dd52f"
      },
      "source": [
        "import numpy as np\n",
        "\n",
        "a = np.array(([1 , 2, 3], [4, 5, 6]))\n",
        "b = np.array(([1, 2], [3, 4], [5, 6]))\n",
        "c = np.array(([1, 2, 3], [4, 5, 6], [7, 8, 9]))\n",
        "d = np.array(([1, 2], [3, 4]))\n",
        "e = np.dot(a,b)\n",
        "\n",
        "print(\"a= \")\n",
        "print(a)\n",
        "print(\"b= \")\n",
        "print(b)\n",
        "print(\"c= \")\n",
        "print(c)\n",
        "print(\"d= \")\n",
        "print(d)\n",
        "\n",
        "print(\"AB: \")\n",
        "print(e)\n",
        "print(\"D + D: \")\n",
        "print(d+d)\n",
        "print(\"2C: \")\n",
        "print(2*c)"
      ],
      "execution_count": 4,
      "outputs": [
        {
          "output_type": "stream",
          "name": "stdout",
          "text": [
            "a= \n",
            "[[1 2 3]\n",
            " [4 5 6]]\n",
            "b= \n",
            "[[1 2]\n",
            " [3 4]\n",
            " [5 6]]\n",
            "c= \n",
            "[[1 2 3]\n",
            " [4 5 6]\n",
            " [7 8 9]]\n",
            "d= \n",
            "[[1 2]\n",
            " [3 4]]\n",
            "AB: \n",
            "[[22 28]\n",
            " [49 64]]\n",
            "D + D: \n",
            "[[2 4]\n",
            " [6 8]]\n",
            "2C: \n",
            "[[ 2  4  6]\n",
            " [ 8 10 12]\n",
            " [14 16 18]]\n"
          ]
        }
      ]
    },
    {
      "cell_type": "code",
      "metadata": {
        "colab": {
          "base_uri": "https://localhost:8080/"
        },
        "id": "a1HJzjg_0uux",
        "outputId": "9fe43891-50b3-48a2-ecfe-cdbe12727801"
      },
      "source": [
        "import numpy as np\n",
        "\n",
        "prob2 = np.array([5, 3, -1])\n",
        "\n",
        "print(\"Type1 =  \") #since i'm not sure what kind of type to use i added two this one is data type\n",
        "print(prob2.dtype)\n",
        "print(\"Type2 =  \") #\n",
        "print(type(prob2))\n",
        "print(\"Shape =  \")\n",
        "print(prob2.shape)\n",
        "print(\"Dimensions =  \")\n",
        "print(prob2.ndim)\n",
        "print(\"Size = \")\n",
        "print(prob2.size)\n"
      ],
      "execution_count": 9,
      "outputs": [
        {
          "output_type": "stream",
          "name": "stdout",
          "text": [
            "Type1 =  \n",
            "int64\n",
            "Type2 =  \n",
            "<class 'numpy.ndarray'>\n",
            "Shape =  \n",
            "(3,)\n",
            "Dimensions =  \n",
            "1\n",
            "Size = \n",
            "3\n"
          ]
        }
      ]
    }
  ]
}