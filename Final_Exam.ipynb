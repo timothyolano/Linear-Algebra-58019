{
  "nbformat": 4,
  "nbformat_minor": 0,
  "metadata": {
    "colab": {
      "name": "Final Exam.ipynb",
      "provenance": [],
      "authorship_tag": "ABX9TyMgy0tXBQg4L49dshJdVMOv",
      "include_colab_link": true
    },
    "kernelspec": {
      "name": "python3",
      "display_name": "Python 3"
    },
    "language_info": {
      "name": "python"
    }
  },
  "cells": [
    {
      "cell_type": "markdown",
      "metadata": {
        "id": "view-in-github",
        "colab_type": "text"
      },
      "source": [
        "<a href=\"https://colab.research.google.com/github/timothyolano/Linear-Algebra-58019/blob/main/Final_Exam.ipynb\" target=\"_parent\"><img src=\"https://colab.research.google.com/assets/colab-badge.svg\" alt=\"Open In Colab\"/></a>"
      ]
    },
    {
      "cell_type": "markdown",
      "source": [
        "#1\n"
      ],
      "metadata": {
        "id": "KTiAIYgVXAOw"
      }
    },
    {
      "cell_type": "code",
      "source": [
        "import numpy as np \n",
        "A = np.array([[1, 1, 1],[1, 0, 4],[0, 0, 5]])\n",
        "print(f'Matrix A:\\n {A}') \n",
        "print()\n",
        "B = np.array([[89],[89],[95]])\n",
        "print(f'Matrix B:\\n {A}') \n",
        "C = np.linalg.inv(A).dot(B)\n",
        "print(f'\\nInverse of Matrix A:\\n{C}')\n"
      ],
      "metadata": {
        "colab": {
          "base_uri": "https://localhost:8080/"
        },
        "id": "9buhnmqnUE36",
        "outputId": "ae4099d8-d5be-49b9-89f3-3060cb1a3b05"
      },
      "execution_count": 34,
      "outputs": [
        {
          "output_type": "stream",
          "name": "stdout",
          "text": [
            "Matrix A:\n",
            " [[1 1 1]\n",
            " [1 0 4]\n",
            " [0 0 5]]\n",
            "\n",
            "Matrix B:\n",
            " [[1 1 1]\n",
            " [1 0 4]\n",
            " [0 0 5]]\n",
            "\n",
            "Inverse of Matrix A:\n",
            "[[13.]\n",
            " [57.]\n",
            " [19.]]\n"
          ]
        }
      ]
    },
    {
      "cell_type": "markdown",
      "source": [
        "#2\n"
      ],
      "metadata": {
        "id": "DvNZeF66W-us"
      }
    },
    {
      "cell_type": "code",
      "source": [
        "import numpy as np \n",
        "A = np.array([[3, -1, 1],[9, 3, -3],[-12, 4, -4]]) \n",
        "print(f'Matrix A:\\n {A}') \n",
        "\n",
        "#as we all know a singular matrix is one with a determinant of zero and thus no inverse. since the given matrix is singular, it has no inverse so we cannot solve it properly. \n",
        "#to show it's output we can use an alt which is the pseudoinverse(pinv). \n",
        "\n",
        "pinv_A = np.linalg.pinv(A) \n",
        "print(f'\\nPINV:\\n{inv_A}')\n",
        "print()\n",
        "\n",
        "B = np.array([[5],[10],[-20]]) \n",
        "print(f'Matrix B:\\n {B}') \n",
        "\n",
        "X = np.dot(pinv_A, B)\n",
        "print(f'\\nDot product:\\n{X}') \n",
        "\n",
        "C = np.dot(A, X)\n",
        "print(f'\\nChecking:\\n{C}') "
      ],
      "metadata": {
        "colab": {
          "base_uri": "https://localhost:8080/"
        },
        "id": "AouEpJv4WA3d",
        "outputId": "d820c8f5-6756-475e-8a79-034de2d1f0be"
      },
      "execution_count": 47,
      "outputs": [
        {
          "output_type": "stream",
          "name": "stdout",
          "text": [
            "Matrix A:\n",
            " [[  3  -1   1]\n",
            " [  9   3  -3]\n",
            " [-12   4  -4]]\n",
            "\n",
            "PINV:\n",
            "[[ 0.00980392  0.05555556 -0.03921569]\n",
            " [-0.01470588  0.08333333  0.05882353]\n",
            " [ 0.01470588 -0.08333333 -0.05882353]]\n",
            "\n",
            "Matrix B:\n",
            " [[  5]\n",
            " [ 10]\n",
            " [-20]]\n",
            "\n",
            "Dot product:\n",
            "[[ 1.38888889]\n",
            " [-0.41666667]\n",
            " [ 0.41666667]]\n",
            "\n",
            "Checking:\n",
            "[[  5.]\n",
            " [ 10.]\n",
            " [-20.]]\n"
          ]
        }
      ]
    },
    {
      "cell_type": "markdown",
      "source": [
        "#3"
      ],
      "metadata": {
        "id": "j_lSad5UXCb-"
      }
    },
    {
      "cell_type": "code",
      "execution_count": null,
      "metadata": {
        "colab": {
          "base_uri": "https://localhost:8080/"
        },
        "id": "s3N_DfLuFyLX",
        "outputId": "b6a14075-be3c-440d-efd2-df9d86e84371"
      },
      "outputs": [
        {
          "output_type": "stream",
          "name": "stdout",
          "text": [
            "\n",
            "the Eigenvalue/s is/are: \n",
            "[[  8   5  -6]\n",
            " [-12  -9  12]\n",
            " [ -3  -3   5]]\n",
            "\n",
            "The Eigenvalue/s is/are: [-1.  3.  2.]\n",
            "\n",
            "The Right Eigenvectors are: \n",
            "[[ 0. -1.  1.]\n",
            " [-1.  1.  0.]\n",
            " [-0. -0.  1.]]\n",
            "\n"
          ]
        }
      ],
      "source": [
        "import numpy as np \n",
        "from numpy.linalg import eig\n",
        "\n",
        "a = np.array([[8, 5, -6],[-12, -9, 12],[-3 , -3, 5]])\n",
        "print(f'\\nthe Eigenvalue/s is/are: ')\n",
        "print(a)\n",
        "\n",
        "ev,evt = np.linalg.eig(a)\n",
        "\n",
        "print(f'\\nThe Eigenvalue/s is/are: {ev.round()}')\n",
        "\n",
        "print(f'\\nThe Right Eigenvectors are: \\n{evt.round()}\\n')"
      ]
    }
  ]
}