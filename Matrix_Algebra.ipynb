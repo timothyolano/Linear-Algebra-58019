{
  "nbformat": 4,
  "nbformat_minor": 0,
  "metadata": {
    "colab": {
      "name": "Matrix_Algebra.ipynb",
      "provenance": [],
      "authorship_tag": "ABX9TyMCtRL+5UQwnjiYzxlIEG/W",
      "include_colab_link": true
    },
    "kernelspec": {
      "name": "python3",
      "display_name": "Python 3"
    },
    "language_info": {
      "name": "python"
    }
  },
  "cells": [
    {
      "cell_type": "markdown",
      "metadata": {
        "id": "view-in-github",
        "colab_type": "text"
      },
      "source": [
        "<a href=\"https://colab.research.google.com/github/timothyolano/Linear-Algebra-58019/blob/main/Matrix_Algebra.ipynb\" target=\"_parent\"><img src=\"https://colab.research.google.com/assets/colab-badge.svg\" alt=\"Open In Colab\"/></a>"
      ]
    },
    {
      "cell_type": "code",
      "metadata": {
        "colab": {
          "base_uri": "https://localhost:8080/"
        },
        "id": "nIwigj26-36f",
        "outputId": "bd67e615-0547-4a95-9b5d-0c23f2da46d4"
      },
      "source": [
        "import numpy as np\n",
        "A = np.array([[1,2,],[4,7]])\n",
        "B = (np.linalg.inv(A))\n",
        "print(B)\n"
      ],
      "execution_count": 1,
      "outputs": [
        {
          "output_type": "stream",
          "name": "stdout",
          "text": [
            "[[-7.  2.]\n",
            " [ 4. -1.]]\n"
          ]
        }
      ]
    },
    {
      "cell_type": "code",
      "metadata": {
        "colab": {
          "base_uri": "https://localhost:8080/"
        },
        "id": "WM-WBszV-5vT",
        "outputId": "affb13e3-5e37-4a22-d00a-0250e39eb5ff"
      },
      "source": [
        "import numpy as np\n",
        "A = np.array([[1,2,],[4,7]])\n",
        "invA= (np.linalg.inv(A))\n",
        "print(invA)"
      ],
      "execution_count": 5,
      "outputs": [
        {
          "output_type": "stream",
          "name": "stdout",
          "text": [
            "[[-7.  2.]\n",
            " [ 4. -1.]]\n"
          ]
        }
      ]
    },
    {
      "cell_type": "code",
      "metadata": {
        "colab": {
          "base_uri": "https://localhost:8080/"
        },
        "id": "Go5c5K6y-55R",
        "outputId": "997f8c55-be38-48fa-f1fd-37875bdd473c"
      },
      "source": [
        "import numpy as np\n",
        "A = np.array([[6,1,1],[4,-2,5],[2,8,7]])\n",
        "print(A)\n",
        "print()\n",
        "B = (np.transpose(A))\n",
        "print(B)"
      ],
      "execution_count": 3,
      "outputs": [
        {
          "output_type": "stream",
          "name": "stdout",
          "text": [
            "[[ 6  1  1]\n",
            " [ 4 -2  5]\n",
            " [ 2  8  7]]\n",
            "\n",
            "[[ 6  4  2]\n",
            " [ 1 -2  8]\n",
            " [ 1  5  7]]\n"
          ]
        }
      ]
    },
    {
      "cell_type": "code",
      "metadata": {
        "colab": {
          "base_uri": "https://localhost:8080/"
        },
        "id": "oy9z6pXR-6At",
        "outputId": "969e1f5c-7f88-4aec-e500-385d94213aa0"
      },
      "source": [
        "import numpy as np\n",
        "A = np.array([[6,1,1],[4,-2,5],[2,8,7]])\n",
        "B = (np.linalg.inv(A))\n",
        "print(B)"
      ],
      "execution_count": 4,
      "outputs": [
        {
          "output_type": "stream",
          "name": "stdout",
          "text": [
            "[[ 0.17647059 -0.00326797 -0.02287582]\n",
            " [ 0.05882353 -0.13071895  0.08496732]\n",
            " [-0.11764706  0.1503268   0.05228758]]\n"
          ]
        }
      ]
    },
    {
      "cell_type": "code",
      "metadata": {
        "id": "bHRWkV1BA5ss"
      },
      "source": [
        ""
      ],
      "execution_count": null,
      "outputs": []
    },
    {
      "cell_type": "markdown",
      "metadata": {
        "id": "zWj-StzZAjNc"
      },
      "source": [
        "#Create a Python Program to inverse and transpose a 4x4 matrix, A = ( [6,1,1,3],[4,-2,5,1],[2,8,7,6],[3,1,9,7] )"
      ]
    },
    {
      "cell_type": "code",
      "metadata": {
        "colab": {
          "base_uri": "https://localhost:8080/"
        },
        "id": "N5fEC_nP_D7x",
        "outputId": "585cd625-2a04-4284-d6b4-1ff624d92cb7"
      },
      "source": [
        "#Create a Python Program to inverse and transpose a 4x4 matrix, A = ( [6,1,1,3],[4,-2,5,1],[2,8,7,6],[3,1,9,7] )\n",
        "import numpy as np\n",
        "\n",
        "A = np.array([[6,1,1,3],[4,-2,5,1],[2,8,7,6],[3,1,9,7]])\n",
        "\n",
        "B= (np.linalg.inv(A))\n",
        "\n",
        "C = (np.transpose(A))\n",
        "\n",
        "print('A = ')\n",
        "print(A)\n",
        "print('B = ')\n",
        "print(B)\n",
        "print('C = ')\n",
        "print(C)\n",
        "\n",
        "\n",
        "\n",
        "\n"
      ],
      "execution_count": 8,
      "outputs": [
        {
          "output_type": "stream",
          "name": "stdout",
          "text": [
            "A = \n",
            "[[ 6  1  1  3]\n",
            " [ 4 -2  5  1]\n",
            " [ 2  8  7  6]\n",
            " [ 3  1  9  7]]\n",
            "B = \n",
            "[[ 0.13368984  0.10695187  0.02139037 -0.09090909]\n",
            " [-0.00229183  0.02673797  0.14820474 -0.12987013]\n",
            " [-0.12987013  0.18181818  0.06493506 -0.02597403]\n",
            " [ 0.11000764 -0.28342246 -0.11382735  0.23376623]]\n",
            "C = \n",
            "[[ 6  4  2  3]\n",
            " [ 1 -2  8  1]\n",
            " [ 1  5  7  9]\n",
            " [ 3  1  6  7]]\n"
          ]
        }
      ]
    }
  ]
}