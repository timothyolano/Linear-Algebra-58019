{
  "nbformat": 4,
  "nbformat_minor": 0,
  "metadata": {
    "colab": {
      "name": "Python Exercise1.ipynb",
      "provenance": [],
      "authorship_tag": "ABX9TyNkdzH6Y516mS6MaTrWFMrL",
      "include_colab_link": true
    },
    "kernelspec": {
      "name": "python3",
      "display_name": "Python 3"
    },
    "language_info": {
      "name": "python"
    }
  },
  "cells": [
    {
      "cell_type": "markdown",
      "metadata": {
        "id": "view-in-github",
        "colab_type": "text"
      },
      "source": [
        "<a href=\"https://colab.research.google.com/github/timothyolano/Linear-Algebra-58019/blob/main/Python_Exercise1.ipynb\" target=\"_parent\"><img src=\"https://colab.research.google.com/assets/colab-badge.svg\" alt=\"Open In Colab\"/></a>"
      ]
    },
    {
      "cell_type": "markdown",
      "metadata": {
        "id": "GFqBgagvBOmS"
      },
      "source": [
        "# Matrix and it's operation"
      ]
    },
    {
      "cell_type": "code",
      "metadata": {
        "colab": {
          "base_uri": "https://localhost:8080/"
        },
        "id": "EN-r5fbxBaKG",
        "outputId": "52b6786f-8c92-4fd3-f781-e69465f88631"
      },
      "source": [
        "import numpy as np\n",
        "\n",
        "a = np.array(([-5, 0], [4,1]))\n",
        "b = np.array(([6, -3], [2, 3]))\n",
        "\n",
        "print(\"a= \")\n",
        "print(a)\n",
        "print(\"b= \")\n",
        "print(b)\n",
        "print(\"A+B: \")\n",
        "print(a+b)\n",
        "print(\"B-A: \")\n",
        "print(b-a)\n",
        "print(\"A-B: \")\n",
        "print(a-b)"
      ],
      "execution_count": 1,
      "outputs": [
        {
          "output_type": "stream",
          "name": "stdout",
          "text": [
            "a= \n",
            "[[-5  0]\n",
            " [ 4  1]]\n",
            "b= \n",
            "[[ 6 -3]\n",
            " [ 2  3]]\n",
            "A+B: \n",
            "[[ 1 -3]\n",
            " [ 6  4]]\n",
            "B-A: \n",
            "[[11 -3]\n",
            " [-2  2]]\n",
            "A-B: \n",
            "[[-11   3]\n",
            " [  2  -2]]\n"
          ]
        }
      ]
    }
  ]
}