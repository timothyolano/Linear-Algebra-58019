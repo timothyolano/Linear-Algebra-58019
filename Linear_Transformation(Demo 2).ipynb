{
  "nbformat": 4,
  "nbformat_minor": 0,
  "metadata": {
    "colab": {
      "name": "Linear Transformation.ipynb",
      "provenance": [],
      "authorship_tag": "ABX9TyNaXgvXyvponzZ7NKNqfzOB",
      "include_colab_link": true
    },
    "kernelspec": {
      "name": "python3",
      "display_name": "Python 3"
    },
    "language_info": {
      "name": "python"
    }
  },
  "cells": [
    {
      "cell_type": "markdown",
      "metadata": {
        "id": "view-in-github",
        "colab_type": "text"
      },
      "source": [
        "<a href=\"https://colab.research.google.com/github/timothyolano/Linear-Algebra-58019/blob/main/Linear_Transformation(Demo%202).ipynb\" target=\"_parent\"><img src=\"https://colab.research.google.com/assets/colab-badge.svg\" alt=\"Open In Colab\"/></a>"
      ]
    },
    {
      "cell_type": "markdown",
      "metadata": {
        "id": "VOlevjzIDPnL"
      },
      "source": [
        "##Using Python Codes, to find the inverse of a matrix, the matrix is passed to linalg.inv() of the Numpy Module:\n"
      ]
    },
    {
      "cell_type": "code",
      "metadata": {
        "colab": {
          "base_uri": "https://localhost:8080/"
        },
        "id": "z350F2BCDgSW",
        "outputId": "bf1eecb2-cab3-482b-c201-309d415af32f"
      },
      "source": [
        "import numpy as np \n",
        "\n",
        "a = np.array([[4, 3], [-5,9]])\n",
        "print(a)\n",
        "inv_a = np.linalg.inv(a)\n",
        "print(inv_a)"
      ],
      "execution_count": 3,
      "outputs": [
        {
          "output_type": "stream",
          "name": "stdout",
          "text": [
            "[[ 4  3]\n",
            " [-5  9]]\n",
            "[[ 0.17647059 -0.05882353]\n",
            " [ 0.09803922  0.07843137]]\n"
          ]
        }
      ]
    },
    {
      "cell_type": "code",
      "metadata": {
        "colab": {
          "base_uri": "https://localhost:8080/"
        },
        "id": "Untr_j1uFrZx",
        "outputId": "3af8c53d-69cc-44b4-be57-b21dbe784cdb"
      },
      "source": [
        "b = np.array([[20],[26]])\n",
        "print(b)"
      ],
      "execution_count": 4,
      "outputs": [
        {
          "output_type": "stream",
          "name": "stdout",
          "text": [
            "[[20]\n",
            " [26]]\n"
          ]
        }
      ]
    },
    {
      "cell_type": "code",
      "metadata": {
        "colab": {
          "base_uri": "https://localhost:8080/"
        },
        "id": "FQMHs8frGASo",
        "outputId": "0f16e1c8-b5c0-4ef7-ee9a-21a667fc5d37"
      },
      "source": [
        "x = np.linalg.inv(a).dot(b)\n",
        "print(x)\n"
      ],
      "execution_count": 5,
      "outputs": [
        {
          "output_type": "stream",
          "name": "stdout",
          "text": [
            "[[2.]\n",
            " [4.]]\n"
          ]
        }
      ]
    },
    {
      "cell_type": "code",
      "metadata": {
        "colab": {
          "base_uri": "https://localhost:8080/"
        },
        "id": "srIHyTk_Gagq",
        "outputId": "c6cf693a-4931-429a-91d9-1eddac98f27f"
      },
      "source": [
        "x = np.dot(inv_a,b)\n",
        "print(x)"
      ],
      "execution_count": 8,
      "outputs": [
        {
          "output_type": "stream",
          "name": "stdout",
          "text": [
            "[[2.]\n",
            " [4.]]\n"
          ]
        }
      ]
    },
    {
      "cell_type": "markdown",
      "metadata": {
        "id": "p_Mvib2uLkwS"
      },
      "source": [
        "#Application\n"
      ]
    },
    {
      "cell_type": "code",
      "metadata": {
        "colab": {
          "base_uri": "https://localhost:8080/"
        },
        "id": "GGkrY44YLmKy",
        "outputId": "2cc3320d-e36c-4736-a20c-ebc796e83015"
      },
      "source": [
        "a = np.array([[20, 10], [17, 22]])\n",
        "print(a)\n",
        "\n",
        "inv_a1 = np.linalg.inv(a)\n",
        "print(inv_a)"
      ],
      "execution_count": 33,
      "outputs": [
        {
          "output_type": "stream",
          "name": "stdout",
          "text": [
            "[[20 10]\n",
            " [17 22]]\n",
            "[[ 0.08148148 -0.03703704]\n",
            " [-0.06296296  0.07407407]]\n"
          ]
        }
      ]
    },
    {
      "cell_type": "code",
      "metadata": {
        "colab": {
          "base_uri": "https://localhost:8080/"
        },
        "id": "eAcxTKPDMRQw",
        "outputId": "6cc5a052-0efc-47af-ff27-4d93d167c507"
      },
      "source": [
        "b = np.array([[350], [500]])\n",
        "print(b)"
      ],
      "execution_count": 23,
      "outputs": [
        {
          "output_type": "stream",
          "name": "stdout",
          "text": [
            "[[350]\n",
            " [500]]\n"
          ]
        }
      ]
    },
    {
      "cell_type": "code",
      "metadata": {
        "colab": {
          "base_uri": "https://localhost:8080/"
        },
        "id": "QaAJRgLuMaDk",
        "outputId": "791b9e24-90f2-4509-d12b-eafb02697412"
      },
      "source": [
        "x1 = np.dot(inv_a1, b)\n",
        "print(x1)"
      ],
      "execution_count": 34,
      "outputs": [
        {
          "output_type": "stream",
          "name": "stdout",
          "text": [
            "[[10.]\n",
            " [15.]]\n"
          ]
        }
      ]
    },
    {
      "cell_type": "markdown",
      "metadata": {
        "id": "ErHQ9AylONKu"
      },
      "source": [
        "#ans if correct\n"
      ]
    },
    {
      "cell_type": "code",
      "metadata": {
        "colab": {
          "base_uri": "https://localhost:8080/"
        },
        "id": "cr4ZO_NAOPoD",
        "outputId": "aaec5739-bd09-48eb-dc8f-fe474844c744"
      },
      "source": [
        "c = np.dot(a, x1)\n",
        "print(c)"
      ],
      "execution_count": 35,
      "outputs": [
        {
          "output_type": "stream",
          "name": "stdout",
          "text": [
            "[[350.]\n",
            " [500.]]\n"
          ]
        }
      ]
    },
    {
      "cell_type": "markdown",
      "metadata": {
        "id": "p0m7palROBf2"
      },
      "source": [
        "#activity\n"
      ]
    },
    {
      "cell_type": "code",
      "metadata": {
        "colab": {
          "base_uri": "https://localhost:8080/"
        },
        "id": "gzjLcBxXODmq",
        "outputId": "d03ba2b5-0622-4d52-be4a-547b59c2015d"
      },
      "source": [
        "c = np.array([[4, 3, 2], [-2, 2, 3], [3, -5, 2]])\n",
        "print(c)\n",
        "\n",
        "d = np.array([[25], [-10], [-4]])\n",
        "\n",
        "x = np.linalg.inv(c).dot(d)\n",
        "print(x)"
      ],
      "execution_count": 26,
      "outputs": [
        {
          "output_type": "stream",
          "name": "stdout",
          "text": [
            "[[ 4  3  2]\n",
            " [-2  2  3]\n",
            " [ 3 -5  2]]\n",
            "[[ 5.]\n",
            " [ 3.]\n",
            " [-2.]]\n"
          ]
        }
      ]
    }
  ]
}